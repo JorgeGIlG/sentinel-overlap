{
 "cells": [
  {
   "cell_type": "code",
   "execution_count": 72,
   "metadata": {},
   "outputs": [],
   "source": [
    "import geopandas as gp\n",
    "import requests"
   ]
  },
  {
   "cell_type": "code",
   "execution_count": 74,
   "metadata": {},
   "outputs": [],
   "source": [
    "tiles = gp.read_file(\"sentinel2_tiles.geojson\")\n",
    "target = gp.read_file(\"Kharkiv_region.geojson\")"
   ]
  },
  {
   "cell_type": "code",
   "execution_count": 75,
   "metadata": {},
   "outputs": [
    {
     "data": {
      "text/html": [
       "<div>\n",
       "<style scoped>\n",
       "    .dataframe tbody tr th:only-of-type {\n",
       "        vertical-align: middle;\n",
       "    }\n",
       "\n",
       "    .dataframe tbody tr th {\n",
       "        vertical-align: top;\n",
       "    }\n",
       "\n",
       "    .dataframe thead th {\n",
       "        text-align: right;\n",
       "    }\n",
       "</style>\n",
       "<table border=\"1\" class=\"dataframe\">\n",
       "  <thead>\n",
       "    <tr style=\"text-align: right;\">\n",
       "      <th></th>\n",
       "      <th>geometry</th>\n",
       "    </tr>\n",
       "  </thead>\n",
       "  <tbody>\n",
       "    <tr>\n",
       "      <th>0</th>\n",
       "      <td>POLYGON ((35.46387 50.43652, 34.66187 50.02892...</td>\n",
       "    </tr>\n",
       "  </tbody>\n",
       "</table>\n",
       "</div>"
      ],
      "text/plain": [
       "                                            geometry\n",
       "0  POLYGON ((35.46387 50.43652, 34.66187 50.02892..."
      ]
     },
     "execution_count": 75,
     "metadata": {},
     "output_type": "execute_result"
    }
   ],
   "source": [
    "target"
   ]
  },
  {
   "cell_type": "markdown",
   "metadata": {},
   "source": [
    "### Plot target polygon"
   ]
  },
  {
   "cell_type": "code",
   "execution_count": 76,
   "metadata": {},
   "outputs": [
    {
     "data": {
      "image/png": "[encoded data removed]",
      "text/plain": [
       "<Figure size 432x288 with 1 Axes>"
      ]
     },
     "metadata": {
      "needs_background": "light"
     },
     "output_type": "display_data"
    }
   ],
   "source": [
    "ax = target.plot(color='red')"
   ]
  },
  {
   "cell_type": "markdown",
   "metadata": {},
   "source": [
    "### Build R-tree to find tiles, using spatial index based on [tutorial](https://automating-gis-processes.github.io/site/notebooks/L3/spatial_index.html)"
   ]
  },
  {
   "cell_type": "code",
   "execution_count": 77,
   "metadata": {},
   "outputs": [],
   "source": [
    "# spatial index for intersection points\n",
    "intersection_sindex = tiles.sindex"
   ]
  },
  {
   "cell_type": "code",
   "execution_count": 78,
   "metadata": {},
   "outputs": [
    {
     "name": "stdout",
     "output_type": "stream",
     "text": [
      "Number of groups: 810\n"
     ]
    }
   ],
   "source": [
    "# How many groups do we have?\n",
    "print(\"Number of groups:\", len(intersection_sindex.leaves()))"
   ]
  },
  {
   "cell_type": "code",
   "execution_count": 79,
   "metadata": {},
   "outputs": [
    {
     "data": {
      "text/html": [
       "<div>\n",
       "<style scoped>\n",
       "    .dataframe tbody tr th:only-of-type {\n",
       "        vertical-align: middle;\n",
       "    }\n",
       "\n",
       "    .dataframe tbody tr th {\n",
       "        vertical-align: top;\n",
       "    }\n",
       "\n",
       "    .dataframe thead th {\n",
       "        text-align: right;\n",
       "    }\n",
       "</style>\n",
       "<table border=\"1\" class=\"dataframe\">\n",
       "  <thead>\n",
       "    <tr style=\"text-align: right;\">\n",
       "      <th></th>\n",
       "      <th>Name</th>\n",
       "      <th>description</th>\n",
       "      <th>tessellate</th>\n",
       "      <th>extrude</th>\n",
       "      <th>visibility</th>\n",
       "      <th>snippet</th>\n",
       "      <th>geometry</th>\n",
       "    </tr>\n",
       "  </thead>\n",
       "  <tbody>\n",
       "    <tr>\n",
       "      <th>34028</th>\n",
       "      <td>36UXB</td>\n",
       "      <td>TILE PROPERTIES&lt;br&gt;&lt;table border=0 cellpadding...</td>\n",
       "      <td>-1</td>\n",
       "      <td>0</td>\n",
       "      <td>-1</td>\n",
       "      <td></td>\n",
       "      <td>POLYGON Z ((34.43888 51.44235 0.00000, 36.0170...</td>\n",
       "    </tr>\n",
       "    <tr>\n",
       "      <th>34923</th>\n",
       "      <td>37UCS</td>\n",
       "      <td>TILE PROPERTIES&lt;br&gt;&lt;table border=0 cellpadding...</td>\n",
       "      <td>-1</td>\n",
       "      <td>0</td>\n",
       "      <td>-1</td>\n",
       "      <td></td>\n",
       "      <td>POLYGON Z ((36.12371 51.41588 0.00000, 37.7020...</td>\n",
       "    </tr>\n",
       "    <tr>\n",
       "      <th>34932</th>\n",
       "      <td>37UDS</td>\n",
       "      <td>TILE PROPERTIES&lt;br&gt;&lt;table border=0 cellpadding...</td>\n",
       "      <td>-1</td>\n",
       "      <td>0</td>\n",
       "      <td>-1</td>\n",
       "      <td></td>\n",
       "      <td>POLYGON Z ((37.56055 51.44235 0.00000, 39.1404...</td>\n",
       "    </tr>\n",
       "    <tr>\n",
       "      <th>34041</th>\n",
       "      <td>36UYU</td>\n",
       "      <td>TILE PROPERTIES&lt;br&gt;&lt;table border=0 cellpadding...</td>\n",
       "      <td>-1</td>\n",
       "      <td>0</td>\n",
       "      <td>-1</td>\n",
       "      <td></td>\n",
       "      <td>POLYGON Z ((35.71882 48.72093 0.00000, 37.2082...</td>\n",
       "    </tr>\n",
       "    <tr>\n",
       "      <th>34034</th>\n",
       "      <td>36UXU</td>\n",
       "      <td>TILE PROPERTIES&lt;br&gt;&lt;table border=0 cellpadding...</td>\n",
       "      <td>-1</td>\n",
       "      <td>0</td>\n",
       "      <td>-1</td>\n",
       "      <td></td>\n",
       "      <td>POLYGON Z ((34.36028 48.74498 0.00000, 35.8524...</td>\n",
       "    </tr>\n",
       "  </tbody>\n",
       "</table>\n",
       "</div>"
      ],
      "text/plain": [
       "        Name                                        description  tessellate  \\\n",
       "34028  36UXB  TILE PROPERTIES<br><table border=0 cellpadding...          -1   \n",
       "34923  37UCS  TILE PROPERTIES<br><table border=0 cellpadding...          -1   \n",
       "34932  37UDS  TILE PROPERTIES<br><table border=0 cellpadding...          -1   \n",
       "34041  36UYU  TILE PROPERTIES<br><table border=0 cellpadding...          -1   \n",
       "34034  36UXU  TILE PROPERTIES<br><table border=0 cellpadding...          -1   \n",
       "\n",
       "       extrude  visibility snippet  \\\n",
       "34028        0          -1           \n",
       "34923        0          -1           \n",
       "34932        0          -1           \n",
       "34041        0          -1           \n",
       "34034        0          -1           \n",
       "\n",
       "                                                geometry  \n",
       "34028  POLYGON Z ((34.43888 51.44235 0.00000, 36.0170...  \n",
       "34923  POLYGON Z ((36.12371 51.41588 0.00000, 37.7020...  \n",
       "34932  POLYGON Z ((37.56055 51.44235 0.00000, 39.1404...  \n",
       "34041  POLYGON Z ((35.71882 48.72093 0.00000, 37.2082...  \n",
       "34034  POLYGON Z ((34.36028 48.74498 0.00000, 35.8524...  "
      ]
     },
     "execution_count": 79,
     "metadata": {},
     "output_type": "execute_result"
    }
   ],
   "source": [
    "# Get the indices of the tiles that are likely to be inside the bounding box of the given Polygon\n",
    "# and get tiles\n",
    "tiles_indexes = list(intersection_sindex.intersection(target.geometry[0].bounds))\n",
    "tiles = tiles.loc[tiles_indexes]\n",
    "tiles.tail()"
   ]
  },
  {
   "cell_type": "markdown",
   "metadata": {},
   "source": [
    "#### Plot basic tiles"
   ]
  },
  {
   "cell_type": "code",
   "execution_count": 80,
   "metadata": {},
   "outputs": [
    {
     "data": {
      "image/png": "[encoded data removed]",
      "text/plain": [
       "<Figure size 432x288 with 1 Axes>"
      ]
     },
     "metadata": {
      "needs_background": "light"
     },
     "output_type": "display_data"
    }
   ],
   "source": [
    "ax = target.plot(color='red', alpha=0.5)\n",
    "ax = tiles.plot(ax=ax, color='blue', markersize=2, alpha=0.7)"
   ]
  },
  {
   "cell_type": "code",
   "execution_count": 81,
   "metadata": {},
   "outputs": [],
   "source": [
    "# Make the precise tiles in Polygon query\n",
    "tiles = tiles.loc[tiles.intersects(target.geometry[0])]"
   ]
  },
  {
   "cell_type": "code",
   "execution_count": 82,
   "metadata": {},
   "outputs": [
    {
     "data": {
      "text/html": [
       "<div>\n",
       "<style scoped>\n",
       "    .dataframe tbody tr th:only-of-type {\n",
       "        vertical-align: middle;\n",
       "    }\n",
       "\n",
       "    .dataframe tbody tr th {\n",
       "        vertical-align: top;\n",
       "    }\n",
       "\n",
       "    .dataframe thead th {\n",
       "        text-align: right;\n",
       "    }\n",
       "</style>\n",
       "<table border=\"1\" class=\"dataframe\">\n",
       "  <thead>\n",
       "    <tr style=\"text-align: right;\">\n",
       "      <th></th>\n",
       "      <th>Name</th>\n",
       "      <th>description</th>\n",
       "      <th>tessellate</th>\n",
       "      <th>extrude</th>\n",
       "      <th>visibility</th>\n",
       "      <th>snippet</th>\n",
       "      <th>geometry</th>\n",
       "    </tr>\n",
       "  </thead>\n",
       "  <tbody>\n",
       "    <tr>\n",
       "      <th>34037</th>\n",
       "      <td>36UYB</td>\n",
       "      <td>TILE PROPERTIES&lt;br&gt;&lt;table border=0 cellpadding...</td>\n",
       "      <td>-1</td>\n",
       "      <td>0</td>\n",
       "      <td>-1</td>\n",
       "      <td></td>\n",
       "      <td>POLYGON Z ((35.87572 51.41590 0.00000, 37.4505...</td>\n",
       "    </tr>\n",
       "    <tr>\n",
       "      <th>34028</th>\n",
       "      <td>36UXB</td>\n",
       "      <td>TILE PROPERTIES&lt;br&gt;&lt;table border=0 cellpadding...</td>\n",
       "      <td>-1</td>\n",
       "      <td>0</td>\n",
       "      <td>-1</td>\n",
       "      <td></td>\n",
       "      <td>POLYGON Z ((34.43888 51.44235 0.00000, 36.0170...</td>\n",
       "    </tr>\n",
       "    <tr>\n",
       "      <th>34923</th>\n",
       "      <td>37UCS</td>\n",
       "      <td>TILE PROPERTIES&lt;br&gt;&lt;table border=0 cellpadding...</td>\n",
       "      <td>-1</td>\n",
       "      <td>0</td>\n",
       "      <td>-1</td>\n",
       "      <td></td>\n",
       "      <td>POLYGON Z ((36.12371 51.41588 0.00000, 37.7020...</td>\n",
       "    </tr>\n",
       "    <tr>\n",
       "      <th>34041</th>\n",
       "      <td>36UYU</td>\n",
       "      <td>TILE PROPERTIES&lt;br&gt;&lt;table border=0 cellpadding...</td>\n",
       "      <td>-1</td>\n",
       "      <td>0</td>\n",
       "      <td>-1</td>\n",
       "      <td></td>\n",
       "      <td>POLYGON Z ((35.71882 48.72093 0.00000, 37.2082...</td>\n",
       "    </tr>\n",
       "    <tr>\n",
       "      <th>34034</th>\n",
       "      <td>36UXU</td>\n",
       "      <td>TILE PROPERTIES&lt;br&gt;&lt;table border=0 cellpadding...</td>\n",
       "      <td>-1</td>\n",
       "      <td>0</td>\n",
       "      <td>-1</td>\n",
       "      <td></td>\n",
       "      <td>POLYGON Z ((34.36028 48.74498 0.00000, 35.8524...</td>\n",
       "    </tr>\n",
       "  </tbody>\n",
       "</table>\n",
       "</div>"
      ],
      "text/plain": [
       "        Name                                        description  tessellate  \\\n",
       "34037  36UYB  TILE PROPERTIES<br><table border=0 cellpadding...          -1   \n",
       "34028  36UXB  TILE PROPERTIES<br><table border=0 cellpadding...          -1   \n",
       "34923  37UCS  TILE PROPERTIES<br><table border=0 cellpadding...          -1   \n",
       "34041  36UYU  TILE PROPERTIES<br><table border=0 cellpadding...          -1   \n",
       "34034  36UXU  TILE PROPERTIES<br><table border=0 cellpadding...          -1   \n",
       "\n",
       "       extrude  visibility snippet  \\\n",
       "34037        0          -1           \n",
       "34028        0          -1           \n",
       "34923        0          -1           \n",
       "34041        0          -1           \n",
       "34034        0          -1           \n",
       "\n",
       "                                                geometry  \n",
       "34037  POLYGON Z ((35.87572 51.41590 0.00000, 37.4505...  \n",
       "34028  POLYGON Z ((34.43888 51.44235 0.00000, 36.0170...  \n",
       "34923  POLYGON Z ((36.12371 51.41588 0.00000, 37.7020...  \n",
       "34041  POLYGON Z ((35.71882 48.72093 0.00000, 37.2082...  \n",
       "34034  POLYGON Z ((34.36028 48.74498 0.00000, 35.8524...  "
      ]
     },
     "execution_count": 82,
     "metadata": {},
     "output_type": "execute_result"
    }
   ],
   "source": [
    "tiles.tail()"
   ]
  },
  {
   "cell_type": "markdown",
   "metadata": {},
   "source": [
    "#### Plot tiles after precising"
   ]
  },
  {
   "cell_type": "code",
   "execution_count": 83,
   "metadata": {},
   "outputs": [
    {
     "data": {
      "image/png": "[encoded data removed]",
      "text/plain": [
       "<Figure size 432x288 with 1 Axes>"
      ]
     },
     "metadata": {
      "needs_background": "light"
     },
     "output_type": "display_data"
    }
   ],
   "source": [
    "ax = target.plot(color='red', alpha=0.5)\n",
    "ax = tiles.plot(ax=ax, color='blue', markersize=2, alpha=0.7)\n",
    "_ = tiles.apply(lambda x: ax.annotate(s=x.Name, xy=x.geometry.centroid.coords[0]), axis=1)"
   ]
  },
  {
   "cell_type": "markdown",
   "metadata": {},
   "source": [
    "#### Loc tiles with area $$S \\geq 1000 m^2 \\, or \\, 0.001 km^2$$"
   ]
  },
  {
   "cell_type": "markdown",
   "metadata": {},
   "source": [
    "#### Check coordinate system [epsg:4326](https://epsg.io/4326) with **unit:degrees**, so we need to change it to [epsg:6933](https://epsg.io/6933) with **units:meters** "
   ]
  },
  {
   "cell_type": "code",
   "execution_count": 84,
   "metadata": {},
   "outputs": [
    {
     "data": {
      "text/plain": [
       "{'init': 'epsg:4326'}"
      ]
     },
     "execution_count": 84,
     "metadata": {},
     "output_type": "execute_result"
    }
   ],
   "source": [
    "tiles.crs"
   ]
  },
  {
   "cell_type": "code",
   "execution_count": 85,
   "metadata": {},
   "outputs": [],
   "source": [
    "# change geometry and calculate intersection area\n",
    "target['geometry'] = target.geometry.to_crs({'init': 'epsg:6933'})"
   ]
  },
  {
   "cell_type": "code",
   "execution_count": 86,
   "metadata": {},
   "outputs": [
    {
     "data": {
      "text/html": [
       "<div>\n",
       "<style scoped>\n",
       "    .dataframe tbody tr th:only-of-type {\n",
       "        vertical-align: middle;\n",
       "    }\n",
       "\n",
       "    .dataframe tbody tr th {\n",
       "        vertical-align: top;\n",
       "    }\n",
       "\n",
       "    .dataframe thead th {\n",
       "        text-align: right;\n",
       "    }\n",
       "</style>\n",
       "<table border=\"1\" class=\"dataframe\">\n",
       "  <thead>\n",
       "    <tr style=\"text-align: right;\">\n",
       "      <th></th>\n",
       "      <th>geometry</th>\n",
       "    </tr>\n",
       "  </thead>\n",
       "  <tbody>\n",
       "    <tr>\n",
       "      <th>0</th>\n",
       "      <td>POLYGON ((3421776.628 5649966.097, 3344394.443...</td>\n",
       "    </tr>\n",
       "  </tbody>\n",
       "</table>\n",
       "</div>"
      ],
      "text/plain": [
       "                                            geometry\n",
       "0  POLYGON ((3421776.628 5649966.097, 3344394.443..."
      ]
     },
     "execution_count": 86,
     "metadata": {},
     "output_type": "execute_result"
    }
   ],
   "source": [
    "target"
   ]
  },
  {
   "cell_type": "code",
   "execution_count": 87,
   "metadata": {},
   "outputs": [
    {
     "data": {
      "text/html": [
       "<div>\n",
       "<style scoped>\n",
       "    .dataframe tbody tr th:only-of-type {\n",
       "        vertical-align: middle;\n",
       "    }\n",
       "\n",
       "    .dataframe tbody tr th {\n",
       "        vertical-align: top;\n",
       "    }\n",
       "\n",
       "    .dataframe thead th {\n",
       "        text-align: right;\n",
       "    }\n",
       "</style>\n",
       "<table border=\"1\" class=\"dataframe\">\n",
       "  <thead>\n",
       "    <tr style=\"text-align: right;\">\n",
       "      <th></th>\n",
       "      <th>Name</th>\n",
       "      <th>description</th>\n",
       "      <th>tessellate</th>\n",
       "      <th>extrude</th>\n",
       "      <th>visibility</th>\n",
       "      <th>snippet</th>\n",
       "      <th>geometry</th>\n",
       "    </tr>\n",
       "  </thead>\n",
       "  <tbody>\n",
       "    <tr>\n",
       "      <th>34037</th>\n",
       "      <td>36UYB</td>\n",
       "      <td>TILE PROPERTIES&lt;br&gt;&lt;table border=0 cellpadding...</td>\n",
       "      <td>-1</td>\n",
       "      <td>0</td>\n",
       "      <td>-1</td>\n",
       "      <td></td>\n",
       "      <td>POLYGON Z ((35.87572 51.41590 0.00000, 37.4505...</td>\n",
       "    </tr>\n",
       "    <tr>\n",
       "      <th>34028</th>\n",
       "      <td>36UXB</td>\n",
       "      <td>TILE PROPERTIES&lt;br&gt;&lt;table border=0 cellpadding...</td>\n",
       "      <td>-1</td>\n",
       "      <td>0</td>\n",
       "      <td>-1</td>\n",
       "      <td></td>\n",
       "      <td>POLYGON Z ((34.43888 51.44235 0.00000, 36.0170...</td>\n",
       "    </tr>\n",
       "    <tr>\n",
       "      <th>34923</th>\n",
       "      <td>37UCS</td>\n",
       "      <td>TILE PROPERTIES&lt;br&gt;&lt;table border=0 cellpadding...</td>\n",
       "      <td>-1</td>\n",
       "      <td>0</td>\n",
       "      <td>-1</td>\n",
       "      <td></td>\n",
       "      <td>POLYGON Z ((36.12371 51.41588 0.00000, 37.7020...</td>\n",
       "    </tr>\n",
       "    <tr>\n",
       "      <th>34041</th>\n",
       "      <td>36UYU</td>\n",
       "      <td>TILE PROPERTIES&lt;br&gt;&lt;table border=0 cellpadding...</td>\n",
       "      <td>-1</td>\n",
       "      <td>0</td>\n",
       "      <td>-1</td>\n",
       "      <td></td>\n",
       "      <td>POLYGON Z ((35.71882 48.72093 0.00000, 37.2082...</td>\n",
       "    </tr>\n",
       "    <tr>\n",
       "      <th>34034</th>\n",
       "      <td>36UXU</td>\n",
       "      <td>TILE PROPERTIES&lt;br&gt;&lt;table border=0 cellpadding...</td>\n",
       "      <td>-1</td>\n",
       "      <td>0</td>\n",
       "      <td>-1</td>\n",
       "      <td></td>\n",
       "      <td>POLYGON Z ((34.36028 48.74498 0.00000, 35.8524...</td>\n",
       "    </tr>\n",
       "  </tbody>\n",
       "</table>\n",
       "</div>"
      ],
      "text/plain": [
       "        Name                                        description  tessellate  \\\n",
       "34037  36UYB  TILE PROPERTIES<br><table border=0 cellpadding...          -1   \n",
       "34028  36UXB  TILE PROPERTIES<br><table border=0 cellpadding...          -1   \n",
       "34923  37UCS  TILE PROPERTIES<br><table border=0 cellpadding...          -1   \n",
       "34041  36UYU  TILE PROPERTIES<br><table border=0 cellpadding...          -1   \n",
       "34034  36UXU  TILE PROPERTIES<br><table border=0 cellpadding...          -1   \n",
       "\n",
       "       extrude  visibility snippet  \\\n",
       "34037        0          -1           \n",
       "34028        0          -1           \n",
       "34923        0          -1           \n",
       "34041        0          -1           \n",
       "34034        0          -1           \n",
       "\n",
       "                                                geometry  \n",
       "34037  POLYGON Z ((35.87572 51.41590 0.00000, 37.4505...  \n",
       "34028  POLYGON Z ((34.43888 51.44235 0.00000, 36.0170...  \n",
       "34923  POLYGON Z ((36.12371 51.41588 0.00000, 37.7020...  \n",
       "34041  POLYGON Z ((35.71882 48.72093 0.00000, 37.2082...  \n",
       "34034  POLYGON Z ((34.36028 48.74498 0.00000, 35.8524...  "
      ]
     },
     "execution_count": 87,
     "metadata": {},
     "output_type": "execute_result"
    }
   ],
   "source": [
    "tiles.tail()"
   ]
  },
  {
   "cell_type": "code",
   "execution_count": 88,
   "metadata": {},
   "outputs": [],
   "source": [
    "tiles['geometry'] = tiles.geometry.to_crs({'init': 'epsg:6933'})\n",
    "tiles['area'] = tiles.geometry.apply(lambda g: g.intersection(target.geometry[0]).area / 1e6)\n",
    "tiles = tiles.loc[tiles['area'] > 0.001]"
   ]
  },
  {
   "cell_type": "code",
   "execution_count": 89,
   "metadata": {},
   "outputs": [
    {
     "data": {
      "image/png": "[encoded data removed]",
      "text/plain": [
       "<Figure size 432x288 with 1 Axes>"
      ]
     },
     "metadata": {
      "needs_background": "light"
     },
     "output_type": "display_data"
    }
   ],
   "source": [
    "ax = target.plot(color='red', alpha=0.5)\n",
    "ax = tiles.plot(ax=ax, color='blue', markersize=2, alpha=0.7)\n",
    "_ = tiles.apply(lambda x: ax.annotate(s=x.Name, xy=x.geometry.centroid.coords[0]), axis=1)"
   ]
  },
  {
   "cell_type": "markdown",
   "metadata": {},
   "source": [
    "#### Let's fill target polygon with tiles one by one based on biggest area and smaller name"
   ]
  },
  {
   "cell_type": "code",
   "execution_count": 90,
   "metadata": {},
   "outputs": [],
   "source": [
    "tiles = tiles.sort_values(by=['area', 'Name'], ascending=[False, True])"
   ]
  },
  {
   "cell_type": "code",
   "execution_count": 91,
   "metadata": {},
   "outputs": [
    {
     "data": {
      "text/html": [
       "<div>\n",
       "<style scoped>\n",
       "    .dataframe tbody tr th:only-of-type {\n",
       "        vertical-align: middle;\n",
       "    }\n",
       "\n",
       "    .dataframe tbody tr th {\n",
       "        vertical-align: top;\n",
       "    }\n",
       "\n",
       "    .dataframe thead th {\n",
       "        text-align: right;\n",
       "    }\n",
       "</style>\n",
       "<table border=\"1\" class=\"dataframe\">\n",
       "  <thead>\n",
       "    <tr style=\"text-align: right;\">\n",
       "      <th></th>\n",
       "      <th>Name</th>\n",
       "      <th>description</th>\n",
       "      <th>tessellate</th>\n",
       "      <th>extrude</th>\n",
       "      <th>visibility</th>\n",
       "      <th>snippet</th>\n",
       "      <th>geometry</th>\n",
       "      <th>area</th>\n",
       "    </tr>\n",
       "  </thead>\n",
       "  <tbody>\n",
       "    <tr>\n",
       "      <th>34036</th>\n",
       "      <td>36UYA</td>\n",
       "      <td>TILE PROPERTIES&lt;br&gt;&lt;table border=0 cellpadding...</td>\n",
       "      <td>-1</td>\n",
       "      <td>0</td>\n",
       "      <td>-1</td>\n",
       "      <td></td>\n",
       "      <td>POLYGON Z ((3456212.751 5656643.742 0.000, 360...</td>\n",
       "      <td>11989.221268</td>\n",
       "    </tr>\n",
       "    <tr>\n",
       "      <th>34042</th>\n",
       "      <td>36UYV</td>\n",
       "      <td>TILE PROPERTIES&lt;br&gt;&lt;table border=0 cellpadding...</td>\n",
       "      <td>-1</td>\n",
       "      <td>0</td>\n",
       "      <td>-1</td>\n",
       "      <td></td>\n",
       "      <td>POLYGON Z ((3451170.944 5582487.885 0.000, 359...</td>\n",
       "      <td>11921.593870</td>\n",
       "    </tr>\n",
       "    <tr>\n",
       "      <th>34922</th>\n",
       "      <td>37UCR</td>\n",
       "      <td>TILE PROPERTIES&lt;br&gt;&lt;table border=0 cellpadding...</td>\n",
       "      <td>-1</td>\n",
       "      <td>0</td>\n",
       "      <td>-1</td>\n",
       "      <td></td>\n",
       "      <td>POLYGON Z ((3490745.053 5656642.624 0.000, 364...</td>\n",
       "      <td>11661.453416</td>\n",
       "    </tr>\n",
       "    <tr>\n",
       "      <th>34921</th>\n",
       "      <td>37UCQ</td>\n",
       "      <td>TILE PROPERTIES&lt;br&gt;&lt;table border=0 cellpadding...</td>\n",
       "      <td>-1</td>\n",
       "      <td>0</td>\n",
       "      <td>-1</td>\n",
       "      <td></td>\n",
       "      <td>POLYGON Z ((3495787.865 5582486.782 0.000, 364...</td>\n",
       "      <td>11122.932472</td>\n",
       "    </tr>\n",
       "    <tr>\n",
       "      <th>34035</th>\n",
       "      <td>36UXV</td>\n",
       "      <td>TILE PROPERTIES&lt;br&gt;&lt;table border=0 cellpadding...</td>\n",
       "      <td>-1</td>\n",
       "      <td>0</td>\n",
       "      <td>-1</td>\n",
       "      <td></td>\n",
       "      <td>POLYGON Z ((3317697.509 5584555.305 0.000, 346...</td>\n",
       "      <td>7869.233590</td>\n",
       "    </tr>\n",
       "  </tbody>\n",
       "</table>\n",
       "</div>"
      ],
      "text/plain": [
       "        Name                                        description  tessellate  \\\n",
       "34036  36UYA  TILE PROPERTIES<br><table border=0 cellpadding...          -1   \n",
       "34042  36UYV  TILE PROPERTIES<br><table border=0 cellpadding...          -1   \n",
       "34922  37UCR  TILE PROPERTIES<br><table border=0 cellpadding...          -1   \n",
       "34921  37UCQ  TILE PROPERTIES<br><table border=0 cellpadding...          -1   \n",
       "34035  36UXV  TILE PROPERTIES<br><table border=0 cellpadding...          -1   \n",
       "\n",
       "       extrude  visibility snippet  \\\n",
       "34036        0          -1           \n",
       "34042        0          -1           \n",
       "34922        0          -1           \n",
       "34921        0          -1           \n",
       "34035        0          -1           \n",
       "\n",
       "                                                geometry          area  \n",
       "34036  POLYGON Z ((3456212.751 5656643.742 0.000, 360...  11989.221268  \n",
       "34042  POLYGON Z ((3451170.944 5582487.885 0.000, 359...  11921.593870  \n",
       "34922  POLYGON Z ((3490745.053 5656642.624 0.000, 364...  11661.453416  \n",
       "34921  POLYGON Z ((3495787.865 5582486.782 0.000, 364...  11122.932472  \n",
       "34035  POLYGON Z ((3317697.509 5584555.305 0.000, 346...   7869.233590  "
      ]
     },
     "execution_count": 91,
     "metadata": {},
     "output_type": "execute_result"
    }
   ],
   "source": [
    "tiles.head()"
   ]
  },
  {
   "cell_type": "code",
   "execution_count": 92,
   "metadata": {},
   "outputs": [],
   "source": [
    "t = target.copy()"
   ]
  },
  {
   "cell_type": "code",
   "execution_count": 93,
   "metadata": {},
   "outputs": [
    {
     "name": "stdout",
     "output_type": "stream",
     "text": [
      "Wall time: 9.97 ms\n"
     ]
    }
   ],
   "source": [
    "%%time\n",
    "result_tiles = list()\n",
    "for row in tiles.itertuples():\n",
    "    start_area = t.geometry[0].area\n",
    "    t.geometry[0] = t.geometry[0].difference(row.geometry)\n",
    "    if start_area != t.geometry[0].area:\n",
    "        result_tiles.append(dict(Name=row.Name, geometry=row.geometry))"
   ]
  },
  {
   "cell_type": "code",
   "execution_count": 94,
   "metadata": {},
   "outputs": [],
   "source": [
    "tiles_df = gp.GeoDataFrame(result_tiles, crs={'init' :'epsg:6933'})\n",
    "tiles_df = tiles_df.to_crs({'init':'epsg:4326'})"
   ]
  },
  {
   "cell_type": "markdown",
   "metadata": {},
   "source": [
    "#### Final plot"
   ]
  },
  {
   "cell_type": "code",
   "execution_count": 95,
   "metadata": {},
   "outputs": [
    {
     "data": {
      "image/png": "[encoded data removed]",
      "text/plain": [
       "<Figure size 432x288 with 1 Axes>"
      ]
     },
     "metadata": {
      "needs_background": "light"
     },
     "output_type": "display_data"
    }
   ],
   "source": [
    "ax = tiles_df.plot(color='blue', markersize=2, alpha=0.7)\n",
    "_ = tiles_df.apply(lambda x: ax.annotate(s=x.Name, xy=x.geometry.centroid.coords[0]), axis=1)"
   ]
  },
  {
   "cell_type": "markdown",
   "metadata": {},
   "source": [
    "#### Save to file"
   ]
  },
  {
   "cell_type": "code",
   "execution_count": 96,
   "metadata": {},
   "outputs": [],
   "source": [
    "path = \"overlap.geojson\""
   ]
  },
  {
   "cell_type": "code",
   "execution_count": 97,
   "metadata": {},
   "outputs": [],
   "source": [
    "tiles_df.to_file(path, driver='GeoJSON')"
   ]
  },
  {
   "cell_type": "markdown",
   "metadata": {},
   "source": [
    "### Final tiles Names"
   ]
  },
  {
   "cell_type": "code",
   "execution_count": 99,
   "metadata": {},
   "outputs": [
    {
     "name": "stdout",
     "output_type": "stream",
     "text": [
      "['36UXA', '36UXU', '36UXV', '36UYA', '36UYB', '36UYU', '36UYV', '37UCQ', '37UCR', '37UDQ', '37UDR']\n"
     ]
    }
   ],
   "source": [
    "print(sorted(list(tiles_df.Name)))"
   ]
  },
  {
   "cell_type": "code",
   "execution_count": null,
   "metadata": {},
   "outputs": [],
   "source": []
  }
 ],
 "metadata": {
  "kernelspec": {
   "display_name": "Python 3",
   "language": "python",
   "name": "python3"
  },
  "language_info": {
   "codemirror_mode": {
    "name": "ipython",
    "version": 3
   },
   "file_extension": ".py",
   "mimetype": "text/x-python",
   "name": "python",
   "nbconvert_exporter": "python",
   "pygments_lexer": "ipython3",
   "version": "3.8.2"
  }
 },
 "nbformat": 4,
 "nbformat_minor": 4
}
